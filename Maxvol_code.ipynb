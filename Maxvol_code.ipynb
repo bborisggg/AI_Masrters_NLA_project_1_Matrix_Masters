{
  "nbformat": 4,
  "nbformat_minor": 0,
  "metadata": {
    "colab": {
      "provenance": [],
      "authorship_tag": "ABX9TyNIlvbLrjgXqNt97rLSYkBv",
      "include_colab_link": true
    },
    "kernelspec": {
      "name": "python3",
      "display_name": "Python 3"
    },
    "language_info": {
      "name": "python"
    }
  },
  "cells": [
    {
      "cell_type": "markdown",
      "metadata": {
        "id": "view-in-github",
        "colab_type": "text"
      },
      "source": [
        "<a href=\"https://colab.research.google.com/github/ol3gka/AI_Masrters_NLA_project_1_Matrix_Masters/blob/main/Maxvol_code.ipynb\" target=\"_parent\"><img src=\"https://colab.research.google.com/assets/colab-badge.svg\" alt=\"Open In Colab\"/></a>"
      ]
    },
    {
      "cell_type": "code",
      "execution_count": null,
      "metadata": {
        "id": "XYMwV2zhq_qF"
      },
      "outputs": [],
      "source": []
    },
    {
      "cell_type": "code",
      "source": [],
      "metadata": {
        "id": "L4uyrHposOSW"
      },
      "execution_count": null,
      "outputs": []
    },
    {
      "cell_type": "code",
      "source": [],
      "metadata": {
        "id": "53x1P19fsPI6"
      },
      "execution_count": null,
      "outputs": []
    },
    {
      "cell_type": "code",
      "source": [],
      "metadata": {
        "id": "vBFJcLs-sSZh"
      },
      "execution_count": null,
      "outputs": []
    },
    {
      "cell_type": "code",
      "source": [],
      "metadata": {
        "id": "i8ZWift-sSlQ"
      },
      "execution_count": null,
      "outputs": []
    },
    {
      "cell_type": "code",
      "source": [],
      "metadata": {
        "id": "8OV-LLp4sVgS"
      },
      "execution_count": null,
      "outputs": []
    },
    {
      "cell_type": "code",
      "source": [],
      "metadata": {
        "id": "L8ZWolVGsTIx"
      },
      "execution_count": null,
      "outputs": []
    },
    {
      "cell_type": "markdown",
      "source": [
        "# maxvol-2 (rect-maxvol)\n",
        "Автор: Николаев О.В.\n",
        "\n",
        "- добавить, что такое объем (детерминант прямоугольной матрицы)\n",
        "\n",
        "- написать докстринг\n",
        "\n",
        "\n"
      ],
      "metadata": {
        "id": "6ngdrt1JsXL6"
      }
    },
    {
      "cell_type": "markdown",
      "source": [
        "**Algorithm 1 rect_maxvol (“Greedy” maximization of the volume of submatrix)**\n"
      ],
      "metadata": {
        "id": "B4iLuVSrtdAh"
      }
    },
    {
      "cell_type": "markdown",
      "source": [
        "\n",
        "<div>\n",
        "<img src=\"https://raw.githubusercontent.com/ol3gka/AI_Masrters_NLA_project_1_Matrix_Masters/main/pictures/max_vol_1.jpg\" width=\"600\"/>\n",
        "</div>"
      ],
      "metadata": {
        "id": "WI-XKSKPOWtP"
      }
    },
    {
      "cell_type": "code",
      "source": [
        "def py_rect_maxvol(\n",
        "    A, tol=1.,\n",
        "    maxK=None,\n",
        "    min_add_K=None,\n",
        "    minK=None,\n",
        "    start_maxvol_iters=10,\n",
        "    identity_submatrix=True,\n",
        "    top_k_index=-1):\n",
        "    \"\"\"\n",
        "    Реализация алгоритма rect_maxvol:\n",
        "    нахождение прямоугольной подматрицы с максимальным объемом\n",
        "\n",
        "    Args:\n",
        "      написать\n",
        "\n",
        "    Returns:\n",
        "      написать\n",
        "    \"\"\"\n",
        "    # tol2 - квадрат параметра tol\n",
        "    tol2 = tol**2\n",
        "    # N - число строк, r - число колонок матрицы A\n",
        "    N, r = A.shape\n",
        "    # работа над параметрами\n",
        "    if N <= r:\n",
        "        return np.arange(N, dtype=np.int32), np.eye(N, dtype=A.dtype)\n",
        "    if maxK is None or maxK > N:\n",
        "        maxK = N\n",
        "    if maxK < r:\n",
        "        maxK = r\n",
        "    if minK is None or minK < r:\n",
        "        minK = r\n",
        "    if minK > N:\n",
        "        minK = N\n",
        "    if min_add_K is not None:\n",
        "        minK = max(minK, r + min_add_K)\n",
        "    if minK > maxK:\n",
        "        minK = maxK\n",
        "        #raise ValueError('minK value cannot be greater than maxK value')\n",
        "    if top_k_index == -1 or top_k_index > N:\n",
        "        top_k_index = N\n",
        "    if top_k_index < r:\n",
        "        top_k_index = r\n",
        "    # выбор изначальной подматрицы и коэффициентов согласно maxvol алгоритму\n",
        "    index = np.zeros(N, dtype=np.int32)\n",
        "    chosen = np.ones(top_k_index)\n",
        "    tmp_index, C = py_maxvol(A, 1.05, start_maxvol_iters, top_k_index)\n",
        "    index[:r] = tmp_index\n",
        "    chosen[tmp_index] = 0\n",
        "    C = np.asfortranarray(C)\n",
        "    # вычислим квадратные 2-нормы каждой строки в матрице коэффиценттов матриы C\n",
        "    row_norm_sqr = np.array([chosen[i]*np.linalg.norm(C[i], 2)**2 for\n",
        "        i in range(top_k_index)])\n",
        "    # находим максимальное число в row_norm_sqr\n",
        "    i = np.argmax(row_norm_sqr)\n",
        "    K = r\n",
        "    # выберете cgeru или zgeru для комплексных чисел и dger или sger для float\n",
        "    try:\n",
        "        ger = get_blas_funcs('geru', [C])\n",
        "    except:\n",
        "        ger = get_blas_funcs('ger', [C])\n",
        "    # изменяем (увеличваем) maxvol подматрицу с каждой итерацией\n",
        "    while (row_norm_sqr[i] > tol2 and K < maxK) or K < minK:\n",
        "        # прибавляем i к индексу и пересчитываем С и квадратные нормы для каждой\n",
        "        # строки с помощью SVM-формулы\n",
        "        index[K] = i\n",
        "        chosen[i] = 0\n",
        "        c = C[i].copy()\n",
        "        v = C.dot(c.conj())\n",
        "        l = 1.0/(1+v[i])\n",
        "        ger(-l,v,c,a=C,overwrite_a=1)\n",
        "        C = np.hstack([C, l*v.reshape(-1,1)])\n",
        "        row_norm_sqr -= (l*v[:top_k_index]*v[:top_k_index].conj()).real\n",
        "        row_norm_sqr *= chosen\n",
        "        # найти максимальное значение в row_norm_sqr\n",
        "        i = row_norm_sqr.argmax()\n",
        "        K += 1\n",
        "    # если identity_submatrix is True, установите подматрицу соответсвующую\n",
        "    # maxvol строкам, раной identity матрице\n",
        "    if identity_submatrix:\n",
        "        C[index[:K]] = np.eye(K, dtype=C.dtype)\n",
        "    return index[:K].copy(), C"
      ],
      "metadata": {
        "id": "uD3I_rHftJXm"
      },
      "execution_count": null,
      "outputs": []
    },
    {
      "cell_type": "code",
      "source": [],
      "metadata": {
        "id": "Sx0jW9_wwreJ"
      },
      "execution_count": null,
      "outputs": []
    }
  ]
}