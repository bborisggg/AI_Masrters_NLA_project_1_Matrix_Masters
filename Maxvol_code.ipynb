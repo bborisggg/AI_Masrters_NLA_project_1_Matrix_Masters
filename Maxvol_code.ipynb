{
  "nbformat": 4,
  "nbformat_minor": 0,
  "metadata": {
    "colab": {
      "provenance": [],
      "authorship_tag": "ABX9TyPrVORqUG4+X19J89vpzslI",
      "include_colab_link": true
    },
    "kernelspec": {
      "name": "python3",
      "display_name": "Python 3"
    },
    "language_info": {
      "name": "python"
    }
  },
  "cells": [
    {
      "cell_type": "markdown",
      "metadata": {
        "id": "view-in-github",
        "colab_type": "text"
      },
      "source": [
        "<a href=\"https://colab.research.google.com/github/ol3gka/AI_Masrters_NLA_project_1_Matrix_Masters/blob/main/Maxvol_code.ipynb\" target=\"_parent\"><img src=\"https://colab.research.google.com/assets/colab-badge.svg\" alt=\"Open In Colab\"/></a>"
      ]
    },
    {
      "cell_type": "code",
      "execution_count": null,
      "metadata": {
        "id": "XYMwV2zhq_qF"
      },
      "outputs": [],
      "source": []
    },
    {
      "cell_type": "code",
      "source": [],
      "metadata": {
        "id": "L4uyrHposOSW"
      },
      "execution_count": null,
      "outputs": []
    },
    {
      "cell_type": "code",
      "source": [],
      "metadata": {
        "id": "53x1P19fsPI6"
      },
      "execution_count": null,
      "outputs": []
    },
    {
      "cell_type": "code",
      "source": [],
      "metadata": {
        "id": "vBFJcLs-sSZh"
      },
      "execution_count": null,
      "outputs": []
    },
    {
      "cell_type": "code",
      "source": [],
      "metadata": {
        "id": "i8ZWift-sSlQ"
      },
      "execution_count": null,
      "outputs": []
    },
    {
      "cell_type": "code",
      "source": [],
      "metadata": {
        "id": "8OV-LLp4sVgS"
      },
      "execution_count": null,
      "outputs": []
    },
    {
      "cell_type": "code",
      "source": [],
      "metadata": {
        "id": "L8ZWolVGsTIx"
      },
      "execution_count": null,
      "outputs": []
    },
    {
      "cell_type": "markdown",
      "source": [
        "# maxvol-2 (rect-maxvol)\n",
        "Автор: Николаев О.В.\n",
        "\n",
        "\n"
      ],
      "metadata": {
        "id": "6ngdrt1JsXL6"
      }
    },
    {
      "cell_type": "markdown",
      "source": [
        "**Algorithm 1 rect_maxvol (“Greedy” maximization of the volume of submatrix)**\n",
        "\n",
        "\n",
        "**Require:** A full rank $A$\n",
        "\n"
      ],
      "metadata": {
        "id": "B4iLuVSrtdAh"
      }
    },
    {
      "cell_type": "markdown",
      "source": [
        "\n",
        "<div>\n",
        "<img src=\"https://raw.githubusercontent.com/ol3gka/AI_Masrters_NLA_project_1_Matrix_Masters/main/pictures/max_vol_1.jpg\" width=\"600\"/>\n",
        "</div>"
      ],
      "metadata": {
        "id": "WI-XKSKPOWtP"
      }
    },
    {
      "cell_type": "code",
      "source": [],
      "metadata": {
        "id": "uD3I_rHftJXm"
      },
      "execution_count": null,
      "outputs": []
    }
  ]
}