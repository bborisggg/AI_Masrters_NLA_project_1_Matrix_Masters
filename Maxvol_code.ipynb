{
  "nbformat": 4,
  "nbformat_minor": 0,
  "metadata": {
    "colab": {
      "provenance": [],
      "authorship_tag": "ABX9TyNZaLqSgVie++dJRydXEqpQ",
      "include_colab_link": true
    },
    "kernelspec": {
      "name": "python3",
      "display_name": "Python 3"
    },
    "language_info": {
      "name": "python"
    }
  },
  "cells": [
    {
      "cell_type": "markdown",
      "metadata": {
        "id": "view-in-github",
        "colab_type": "text"
      },
      "source": [
        "<a href=\"https://colab.research.google.com/github/ol3gka/AI_Masrters_NLA_project_1_Matrix_Masters/blob/main/Maxvol_code.ipynb\" target=\"_parent\"><img src=\"https://colab.research.google.com/assets/colab-badge.svg\" alt=\"Open In Colab\"/></a>"
      ]
    },
    {
      "cell_type": "code",
      "execution_count": null,
      "metadata": {
        "id": "XYMwV2zhq_qF"
      },
      "outputs": [],
      "source": []
    },
    {
      "cell_type": "code",
      "source": [],
      "metadata": {
        "id": "L4uyrHposOSW"
      },
      "execution_count": null,
      "outputs": []
    },
    {
      "cell_type": "code",
      "source": [],
      "metadata": {
        "id": "53x1P19fsPI6"
      },
      "execution_count": null,
      "outputs": []
    },
    {
      "cell_type": "code",
      "source": [],
      "metadata": {
        "id": "vBFJcLs-sSZh"
      },
      "execution_count": null,
      "outputs": []
    },
    {
      "cell_type": "code",
      "source": [],
      "metadata": {
        "id": "i8ZWift-sSlQ"
      },
      "execution_count": null,
      "outputs": []
    },
    {
      "cell_type": "code",
      "source": [],
      "metadata": {
        "id": "8OV-LLp4sVgS"
      },
      "execution_count": null,
      "outputs": []
    },
    {
      "cell_type": "code",
      "source": [],
      "metadata": {
        "id": "L8ZWolVGsTIx"
      },
      "execution_count": null,
      "outputs": []
    },
    {
      "cell_type": "markdown",
      "source": [
        "# maxvol-2 (rect-maxvol)\n",
        "Автор: Николаев О.В.\n",
        "\n",
        "\n"
      ],
      "metadata": {
        "id": "6ngdrt1JsXL6"
      }
    },
    {
      "cell_type": "code",
      "source": [
        "# Ensure: A submatrix Ab, a set of pivot rows {p} and a matrix of coefficients C\n",
        "# such, that A = CA, b ∀i /∈ {p} : kCik2 ≤ τ\n",
        "\n",
        "\n",
        "# 1: Start with a non-singular square submatrix Ab {Result of the maxvol}\n",
        "# 2: {p} ← pivot rows; C ← AAb−1\n",
        "# ; ∀i : Li ← kCik\n",
        "# 2\n",
        "# 2\n",
        "# {Result of the maxvol}\n",
        "# 3: i ← argmaxi/∈{p}\n",
        "# (Li) {Find maximal row in C}\n",
        "# 4: while Li > τ 2 do\n",
        "# 5: {p} ← {p} + i {Extend set of pivots}\n",
        "# 6: Ab ←\n",
        "# \u0014\n",
        "# Ab\n",
        "# Ai\n",
        "# \u0015\n",
        "# {Extend Ab}\n",
        "# 7: C ←\n",
        "# h\n",
        "# C −\n",
        "# CC∗\n",
        "# i Ci\n",
        "# 1+CiC∗\n",
        "# i\n",
        "# CC∗\n",
        "# i\n",
        "# 1+CiC∗\n",
        "# i\n",
        "# i\n",
        "# {Rank-1 update of C}\n",
        "# 8: ∀j : Lj ← Lj −\n",
        "# |CjC\n",
        "# ∗\n",
        "# i\n",
        "# |\n",
        "# 2\n",
        "# 1+CiC∗\n",
        "# i\n",
        "# {Update lengths of rows of C}\n",
        "# 9: i ← argmaxi/∈{p}\n",
        "# (Li) {Find maximal row in C}\n",
        "# 10: end while\n",
        "# 11: if Cb is required to be identity then\n",
        "# 12: Cb = I\n",
        "# 13: end if\n",
        "# 14: return C, A, b {p}"
      ],
      "metadata": {
        "id": "8KFHpQ02tcji"
      },
      "execution_count": null,
      "outputs": []
    },
    {
      "cell_type": "markdown",
      "source": [
        "**Algorithm 1 rect_maxvol (“Greedy” maximization of the volume of submatrix)**\n",
        "\n",
        "$\n",
        "\\begin{array}{l}\n",
        "\\text {Require: A full-rank A} \\\\\n",
        "\n",
        "N > r, parameter τ\n",
        "\n",
        "\\end{array}\n",
        "$"
      ],
      "metadata": {
        "id": "B4iLuVSrtdAh"
      }
    },
    {
      "cell_type": "markdown",
      "source": [
        "$\n",
        "\\begin{array}{l}\n",
        "\\text { procedure PUSHCONDLOCAL }\\left(r_{p r e}, r_{c u r}, \\text { phase }\\right) \\\\\n",
        "\\text { if !PUSHCOND }\\left(r_{p r e}, \\text { phase }\\right) \\text { then } \\\\\n",
        "\\text { if PUSHCOND }\\left(r_{c u r}, \\text { phase }\\right) \\text { then } \\\\\n",
        "\\text { return true } \\\\\n",
        "\\text { return } f \\text { alse } \\\\\n",
        "\\text { procedure OPTPARALLELPUSH }\\left(P_{s}, R_{s}, F Q, p h a s e\\right) \\\\\n",
        "F Q^{\\prime}=\\emptyset \\\\\n",
        "E=\\emptyset \\\\\n",
        "\\text { parallel for } u \\in F Q \\\\\n",
        "r_{u} \\leftarrow R_{s}(u) \\\\\n",
        "E=E \\cup\\left(u, r_{u}\\right) \\\\\n",
        "\\text { parallel for } v \\in N_{i n}(u) \\\\\n",
        "\\quad i n c=(1-\\alpha) \\cdot r_{u} / d_{o u t}(v) \\\\\n",
        "\\quad r_{p r e}=\\operatorname{ATOMICADD}\\left(R_{s}(v), \\text { inc }\\right) \\\\\n",
        "\\quad r_{c u r}=r_{p r e}+i n c \\\\\n",
        "\\quad \\text { if PUSHCONDLOCAL }\\left(r_{p r e}, r_{c u r}, p h a s e\\right) \\text { then } \\\\\n",
        "\\quad \\text { ENQUEUE }\\left(F Q^{\\prime}, v\\right) \\\\\n",
        "\\text { synchronize } \\\\\n",
        "\\text { parallel for }\\left(u, r_{u}\\right) \\in E \\\\\n",
        "P_{s}(u)+=\\alpha \\cdot r_{u} \\\\\n",
        "R_{s}(u)-=r_{u} \\\\\n",
        "\\quad \\text { if } \\operatorname{PUSHCOND}\\left(R_{s}(u), p h a s e\\right) \\text { then } \\\\\n",
        "\\quad \\text { ENQUEUE }\\left(F Q^{\\prime}, u\\right) \\\\\n",
        "\\text { synchronize } \\\\\n",
        "\\text { return } F Q^{\\prime}\n",
        "\\end{array}\n",
        "$"
      ],
      "metadata": {
        "id": "jycXPuFxtHUO"
      }
    },
    {
      "cell_type": "code",
      "source": [],
      "metadata": {
        "id": "uD3I_rHftJXm"
      },
      "execution_count": null,
      "outputs": []
    }
  ]
}